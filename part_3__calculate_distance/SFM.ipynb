{
  "nbformat": 4,
  "nbformat_minor": 0,
  "metadata": {
    "colab": {
      "name": "Untitled3.ipynb",
      "provenance": []
    },
    "kernelspec": {
      "name": "python3",
      "display_name": "Python 3"
    }
  },
  "cells": [
    {
      "cell_type": "markdown",
      "metadata": {
        "id": "S916k1vYfSns"
      },
      "source": [
        "**imports:**"
      ]
    },
    {
      "cell_type": "code",
      "metadata": {
        "id": "1cYIMGh0fZVy"
      },
      "source": [
        "import numpy as np"
      ],
      "execution_count": 12,
      "outputs": []
    },
    {
      "cell_type": "markdown",
      "metadata": {
        "id": "RR4xBGLjfsSW"
      },
      "source": [
        "**main functions:**"
      ]
    },
    {
      "cell_type": "code",
      "metadata": {
        "id": "SNGbM0gIfgns"
      },
      "source": [
        "def calc_TFL_dist(prev_container, curr_container, focal, pp):\r\n",
        "    norm_prev_pts, norm_curr_pts, R, foe, tZ = prepare_3D_data(prev_container, curr_container, focal, pp)\r\n",
        "    if abs(tZ) < 10e-6:\r\n",
        "        print('tz = ', tZ)\r\n",
        "    elif norm_prev_pts.size == 0:\r\n",
        "        print('no prev points')\r\n",
        "    elif norm_curr_pts.size == 0:\r\n",
        "        print('no curr points')\r\n",
        "    else:\r\n",
        "        curr_container.corresponding_ind, curr_container.traffic_lights_3d_location, curr_container.valid = calc_3D_data(\r\n",
        "            norm_prev_pts, norm_curr_pts, R, foe, tZ)\r\n",
        "    return curr_container\r\n",
        "\r\n",
        "\r\n",
        "def prepare_3D_data(prev_container, curr_container, focal, pp):\r\n",
        "    norm_prev_pts = normalize(prev_container.traffic_light, focal, pp)\r\n",
        "    norm_curr_pts = normalize(curr_container.traffic_light, focal, pp)\r\n",
        "    R, foe, tZ = decompose(np.array(curr_container.EM))\r\n",
        "    return norm_prev_pts, norm_curr_pts, R, foe, tZ\r\n",
        "\r\n",
        "\r\n",
        "def calc_3D_data(norm_prev_pts, norm_curr_pts, R, foe, tZ):\r\n",
        "    norm_rot_pts = rotate(norm_prev_pts, R)\r\n",
        "    pts_3D = []\r\n",
        "    corresponding_ind = []\r\n",
        "    valid_vec = []\r\n",
        "    for p_curr in norm_curr_pts:\r\n",
        "        corresponding_p_ind, corresponding_p_rot = find_corresponding_points(p_curr, norm_rot_pts, foe)\r\n",
        "        Z = calc_dist(p_curr, corresponding_p_rot, foe, tZ)\r\n",
        "        valid = (Z > 0)\r\n",
        "        if not valid:\r\n",
        "            Z = 0\r\n",
        "        valid_vec.append(valid)\r\n",
        "        P = Z * np.array([p_curr[0], p_curr[1], 1])\r\n",
        "        pts_3D.append((P[0], P[1], P[2]))\r\n",
        "        corresponding_ind.append(corresponding_p_ind)\r\n",
        "    return corresponding_ind, np.array(pts_3D), valid_vec"
      ],
      "execution_count": 2,
      "outputs": []
    },
    {
      "cell_type": "markdown",
      "metadata": {
        "id": "6iBQFtbyfotq"
      },
      "source": [
        "**help functions:**"
      ]
    },
    {
      "cell_type": "code",
      "metadata": {
        "id": "yJMRG2BmlQQd"
      },
      "source": [
        "def normalize(pts, focal, pp):\r\n",
        "    # transform pixels into normalized pixels using the focal length and principle point\r\n",
        "    return np.array([[(pixel[0] - pp[0]) / focal, (pixel[1] - pp[1]) / focal, 1] for pixel in pts])\r\n",
        "\r\n",
        "\r\n",
        "def unnormalize(pts, focal, pp):\r\n",
        "    # transform normalized pixels into pixels using the focal length and principle point\r\n",
        "    return np.array([[(pixel[0] * focal) + pp[0], (pixel[1] * focal) + pp[1], focal] for pixel in pts])\r\n",
        "\r\n",
        "\r\n",
        "def decompose(EM):\r\n",
        "    # extract R, foe and tZ from the Ego Motion\r\n",
        "\r\n",
        "    t = EM[:3, 3]\r\n",
        "    return EM[:3, :3], [t[0] / t[2], t[1] / t[2]], t[2]\r\n",
        "\r\n",
        "\r\n",
        "def rotate(pts, R):\r\n",
        "    # rotate the points - pts using R\r\n",
        "\r\n",
        "    return np.array([(R @ pixel) for pixel in pts])\r\n",
        "\r\n",
        "\r\n",
        "def find_corresponding_points(p, norm_pts_rot, foe):\r\n",
        "    # compute the epipolar line between p and foe\r\n",
        "    # run over all norm_pts_rot and find the one closest to the epipolar line\r\n",
        "    # return the closest point and its index\r\n",
        "\r\n",
        "    m = (foe[1] - p[1]) / (foe[0] - p[0])\r\n",
        "    n = ((p[1] * foe[0]) - (foe[1] * p[0])) / (foe[0] - p[0])\r\n",
        "  #if the car dont move\r\n",
        "    #  Distance of point from line 𝑦=𝑚𝑥+𝑛 calculate by the formula: |(𝑚𝑥+𝑛−𝑦)/√(𝑚^2+1)|\r\n",
        "    dis = [abs((m * pixel[0] + n - pixel[1]) / (m ** 2 + 1) ** 0.5) for pixel in norm_pts_rot]\r\n",
        "\r\n",
        "    return np.argmin(dis), norm_pts_rot[np.argmin(dis)]\r\n",
        "\r\n",
        "\r\n",
        "def calc_dist(p_curr, p_rot, foe, tZ):\r\n",
        "    # calculate the distance of p_curr using x_curr, prev_x_rotate, foe_x and tZ from me\r\n",
        "    # calculate the distance of p_curr using y_curr, y_rot, foe_y and tZ\r\n",
        "    # combine the two estimations and return estimated Z\r\n",
        "\r\n",
        "    zX = (tZ * (foe[0] - p_rot[0])) / (p_curr[0] - p_rot[0])\r\n",
        "    zY = (tZ * (foe[1] - p_rot[1])) / (p_curr[1] - p_rot[1])\r\n",
        "\r\n",
        "    dx_plus_dy = (p_rot[0] - p_curr[0]) + (p_rot[1] - p_curr[1])\r\n",
        "    return np.average([zX, zY],\r\n",
        "                      weights=[(p_rot[0] - p_curr[0]) / dx_plus_dy, (p_rot[1] - p_curr[1]) / dx_plus_dy])\r\n"
      ],
      "execution_count": 3,
      "outputs": []
    }
  ]
}